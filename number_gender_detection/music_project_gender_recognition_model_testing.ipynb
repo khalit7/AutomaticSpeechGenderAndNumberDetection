{
 "cells": [
  {
   "cell_type": "code",
   "execution_count": 93,
   "id": "ed3eda65",
   "metadata": {
    "scrolled": true
   },
   "outputs": [
    {
     "data": {
      "text/plain": [
       "device(type='cpu')"
      ]
     },
     "execution_count": 93,
     "metadata": {},
     "output_type": "execute_result"
    }
   ],
   "source": [
    "import os\n",
    "import math\n",
    "\n",
    "import numpy as np\n",
    "import matplotlib.pyplot as plt\n",
    "import torch\n",
    "import torch.nn as nn\n",
    "import torchvision.models as models\n",
    "from torch.utils.data import DataLoader,Dataset,random_split\n",
    "from ipywidgets import IntProgress\n",
    "import scipy.io.wavfile\n",
    "import librosa\n",
    "from skimage.transform import resize\n",
    "import scipy.misc\n",
    "from PIL import Image\n",
    "import warnings\n",
    "warnings.filterwarnings('ignore')\n",
    "import IPython.display as ipd\n",
    "\n",
    "from sklearn.metrics import accuracy_score\n",
    "import sounddevice as sd\n",
    "\n",
    "device = torch.device('cuda' if torch.cuda.is_available() else 'cpu')\n",
    "device"
   ]
  },
  {
   "cell_type": "code",
   "execution_count": 94,
   "id": "fd646de1",
   "metadata": {},
   "outputs": [],
   "source": [
    "resnet = models.resnet34(pretrained=True)"
   ]
  },
  {
   "cell_type": "code",
   "execution_count": 95,
   "id": "3f518502",
   "metadata": {},
   "outputs": [],
   "source": [
    "class ModifiedResNet(nn.Module):\n",
    "            def __init__(self):\n",
    "                super(ModifiedResNet, self).__init__()\n",
    "                self.features = nn.Sequential(\n",
    "                    #remove last fully connected layer\n",
    "                    *list(resnet.children())[:-1]\n",
    "                )\n",
    "                self.dense1 = nn.Linear(512,128)\n",
    "                self.dense_number = nn.Linear(128,10)\n",
    "                self.dense_gender = nn.Linear(128,1)\n",
    "            def forward(self, x):\n",
    "              # input shape = batch_size,n_channels,height,width\n",
    "                x = self.features(x) # output shape = batch_size * 512 * 1 * 1\n",
    "                x = x.view(-1,512)\n",
    "                x = nn.ReLU()(self.dense1(x)) # ouput shape = batch_size * 128\n",
    "                number_pred = nn.Softmax()(self.dense_number(x))\n",
    "                gender_pred = nn.Sigmoid()(self.dense_gender(x))\n",
    "\n",
    "                return [number_pred,gender_pred]"
   ]
  },
  {
   "cell_type": "code",
   "execution_count": 96,
   "id": "28408d7a",
   "metadata": {},
   "outputs": [],
   "source": [
    "model = ModifiedResNet()\n",
    "model = model.to(device)"
   ]
  },
  {
   "cell_type": "code",
   "execution_count": 97,
   "id": "2225f702",
   "metadata": {},
   "outputs": [
    {
     "data": {
      "text/plain": [
       "<All keys matched successfully>"
      ]
     },
     "execution_count": 97,
     "metadata": {},
     "output_type": "execute_result"
    }
   ],
   "source": [
    "model.load_state_dict(torch.load(\".\\\\models\\\\best_model_gender_gender_number_recognition\",map_location=device))"
   ]
  },
  {
   "cell_type": "markdown",
   "id": "bcba943f",
   "metadata": {},
   "source": [
    "Audio pre-processing"
   ]
  },
  {
   "cell_type": "code",
   "execution_count": 98,
   "id": "4e24099f",
   "metadata": {},
   "outputs": [],
   "source": [
    "def pad_signal(signal, target_len):\n",
    "    \n",
    "    num_zeros_needed = target_len - len(signal)\n",
    "    \n",
    "    if num_zeros_needed > 0:\n",
    "\n",
    "        num_zeros_front = np.random.randint(num_zeros_needed)\n",
    "        num_zeros_back = num_zeros_needed - num_zeros_front\n",
    "        return np.pad(signal, (num_zeros_front, num_zeros_back), mode='constant')\n",
    "\n",
    "    else:\n",
    "        return signal"
   ]
  },
  {
   "cell_type": "code",
   "execution_count": 352,
   "id": "4cf732e2",
   "metadata": {},
   "outputs": [],
   "source": [
    "freq = 48000\n",
    "sample_rate = 48000\n",
    "duration = 0.9999583333333333\n",
    "max_samples=47998\n",
    "kPRE_EMPHASIS_COEFF = 0.97\n",
    "def pre_emphasis(signal):\n",
    "    first_amp = signal[0]\n",
    "    all_amps_without_first = signal[1:]\n",
    "    all_amps_without_last = signal[:-1]\n",
    "    emphasized_signal = np.append(first_amp, all_amps_without_first - kPRE_EMPHASIS_COEFF * all_amps_without_last)\n",
    "    return emphasized_signal"
   ]
  },
  {
   "cell_type": "code",
   "execution_count": 344,
   "id": "866927a4",
   "metadata": {},
   "outputs": [],
   "source": [
    "def pipeline(signal):\n",
    "    \n",
    "    emphasized_signal = pre_emphasis(signal)\n",
    "    # the following code applies dft, mel filter banks, logging, dct and normalization all at once\n",
    "    # truly convenient\n",
    "    lifted_mfcc = librosa.feature.mfcc(\n",
    "        y=emphasized_signal.astype(float), \n",
    "        sr=sample_rate, \n",
    "        n_mfcc=12, \n",
    "        dct_type=2, \n",
    "        norm='ortho', \n",
    "        lifter=22,\n",
    "        n_fft = int(sample_rate * 0.025),\n",
    "        hop_length= int(sample_rate * 0.01),\n",
    "        power=2,\n",
    "        center=False,\n",
    "        window='hanning',\n",
    "        n_mels=40\n",
    "    )\n",
    "\n",
    "    return lifted_mfcc"
   ]
  },
  {
   "cell_type": "code",
   "execution_count": 345,
   "id": "86e40c5e",
   "metadata": {},
   "outputs": [],
   "source": [
    "def bytescale(data, cmin=None, cmax=None, high=255, low=0):\n",
    "    \"\"\"\n",
    "    Byte scales an array (image).\n",
    "\n",
    "    Byte scaling means converting the input image to uint8 dtype and scaling\n",
    "    the range to ``(low, high)`` (default 0-255).\n",
    "    If the input image already has dtype uint8, no scaling is done.\n",
    "\n",
    "    Parameters\n",
    "    ----------\n",
    "    data : ndarray\n",
    "        PIL image data array.\n",
    "    cmin : scalar, optional\n",
    "        Bias scaling of small values. Default is ``data.min()``.\n",
    "    cmax : scalar, optional\n",
    "        Bias scaling of large values. Default is ``data.max()``.\n",
    "    high : scalar, optional\n",
    "        Scale max value to `high`.  Default is 255.\n",
    "    low : scalar, optional\n",
    "        Scale min value to `low`.  Default is 0.\n",
    "\n",
    "    Returns\n",
    "    -------\n",
    "    img_array : uint8 ndarray\n",
    "        The byte-scaled array.\n",
    "\n",
    "    Examples\n",
    "    --------\n",
    "    >>> img = array([[ 91.06794177,   3.39058326,  84.4221549 ],\n",
    "                     [ 73.88003259,  80.91433048,   4.88878881],\n",
    "                     [ 51.53875334,  34.45808177,  27.5873488 ]])\n",
    "    >>> bytescale(img)\n",
    "    array([[255,   0, 236],\n",
    "           [205, 225,   4],\n",
    "           [140,  90,  70]], dtype=uint8)\n",
    "    >>> bytescale(img, high=200, low=100)\n",
    "    array([[200, 100, 192],\n",
    "           [180, 188, 102],\n",
    "           [155, 135, 128]], dtype=uint8)\n",
    "    >>> bytescale(img, cmin=0, cmax=255)\n",
    "    array([[91,  3, 84],\n",
    "           [74, 81,  5],\n",
    "           [52, 34, 28]], dtype=uint8)\n",
    "\n",
    "    \"\"\"\n",
    "    if data.dtype == np.uint8:\n",
    "        return data\n",
    "\n",
    "    if high < low:\n",
    "        raise ValueError(\"`high` should be larger than `low`.\")\n",
    "\n",
    "    if cmin is None:\n",
    "        cmin = data.min()\n",
    "    if cmax is None:\n",
    "        cmax = data.max()\n",
    "\n",
    "    cscale = cmax - cmin\n",
    "    if cscale < 0:\n",
    "        raise ValueError(\"`cmax` should be larger than `cmin`.\")\n",
    "    elif cscale == 0:\n",
    "        cscale = 1\n",
    "\n",
    "    scale = float(high - low) / cscale\n",
    "    bytedata = (data * 1.0 - cmin) * scale + 0.4999\n",
    "    bytedata[bytedata > high] = high\n",
    "    bytedata[bytedata < 0] = 0\n",
    "    return np.cast[np.uint8](bytedata) + np.cast[np.uint8](low)"
   ]
  },
  {
   "cell_type": "code",
   "execution_count": 346,
   "id": "e3b71ebf",
   "metadata": {},
   "outputs": [],
   "source": [
    "def preprocess_audio(audio):\n",
    "    audio = pad_signal(audio, target_len=max_samples)\n",
    "    mfc = pipeline(audio)\n",
    "    mfc_3d = resize(np.rollaxis(np.array([mfc] * 3), 0, 3), (224, 224, 3))\n",
    "    mfc_3d=bytescale(mfc_3d,cmin=0,cmax=255)\n",
    "    return mfc_3d"
   ]
  },
  {
   "cell_type": "code",
   "execution_count": 347,
   "id": "91997743",
   "metadata": {},
   "outputs": [
    {
     "name": "stdout",
     "output_type": "stream",
     "text": [
      " Volume in drive C is OS\n",
      " Volume Serial Number is 2272-19F5\n",
      "\n",
      " Directory of C:\\Users\\khalid\\Desktop\\QMUL\\subjects\\sem2\\music\\project\\gender_recognition\n",
      "\n",
      "11/04/2022  15:33    <DIR>          .\n",
      "11/04/2022  15:33    <DIR>          ..\n",
      "09/04/2022  22:33    <DIR>          .ipynb_checkpoints\n",
      "09/04/2022  00:34            10,358 4_0_37_15.jpg\n",
      "08/04/2022  18:01       998,783,179 gender_recognition_data.zip\n",
      "09/04/2022  16:11       153,785,257 gender_recognition_preprocessed_data.zip\n",
      "11/04/2022  02:36    <DIR>          models\n",
      "11/04/2022  15:33            67,675 music_project_gender_recognition_model_testing.ipynb\n",
      "10/04/2022  00:08           206,422 music_project_gender_recognition_preprocessing.ipynb\n",
      "11/04/2022  11:43    <DIR>          results\n",
      "11/04/2022  15:16    <DIR>          test\n",
      "               5 File(s)  1,152,852,891 bytes\n",
      "               6 Dir(s)  16,847,724,544 bytes free\n"
     ]
    },
    {
     "name": "stderr",
     "output_type": "stream",
     "text": [
      "The system cannot find the path specified.\n"
     ]
    }
   ],
   "source": [
    "!dir"
   ]
  },
  {
   "cell_type": "code",
   "execution_count": null,
   "id": "bf0e5cea",
   "metadata": {},
   "outputs": [],
   "source": []
  },
  {
   "cell_type": "code",
   "execution_count": null,
   "id": "e81fff8c",
   "metadata": {},
   "outputs": [],
   "source": []
  },
  {
   "cell_type": "code",
   "execution_count": null,
   "id": "9d841858",
   "metadata": {},
   "outputs": [],
   "source": []
  },
  {
   "cell_type": "code",
   "execution_count": 365,
   "id": "7ef9ba25",
   "metadata": {},
   "outputs": [
    {
     "name": "stdout",
     "output_type": "stream",
     "text": [
      "(45056, 2)\n",
      "(45056,)\n",
      "number =  9\n",
      "gender is :  Male\n"
     ]
    }
   ],
   "source": [
    "sr, signal = scipy.io.wavfile.read(\".\\\\test\\\\female\\\\9.wav\")  # faster than librosa\n",
    "len(signal)\n",
    "print(signal.shape)\n",
    "signal = signal[:,0]\n",
    "print(signal.shape)\n",
    "signal = pad_signal(signal, target_len=max_samples)\n",
    "mfc = pipeline(signal)\n",
    "mfc_3d = resize(np.rollaxis(np.array([mfc] * 3), 0, 3), (224, 224, 3))\n",
    "mfc_3d=bytescale(mfc_3d,cmin=0,cmax=255)\n",
    "im = Image.fromarray(mfc_3d)\n",
    "mfc_3d = torch.tensor(mfc_3d.reshape((3,224,224)),dtype = torch.float32)\n",
    "\n",
    "with torch.no_grad():\n",
    "    pred = model(mfc_3d[None,:])\n",
    "if pred[1] >=0.5:\n",
    "    gender = \"Female\"\n",
    "else:\n",
    "    gender = \"Male\"\n",
    "print(\"number = \" ,np.argmax(pred[0]).item())\n",
    "print(\"gender is : \", gender)"
   ]
  },
  {
   "cell_type": "code",
   "execution_count": 369,
   "id": "a19f559e",
   "metadata": {
    "scrolled": true
   },
   "outputs": [
    {
     "name": "stdout",
     "output_type": "stream",
     "text": [
      "(47998, 1)\n",
      "[[ 0.0000000e+00]\n",
      " [ 0.0000000e+00]\n",
      " [-3.0517578e-05]\n",
      " ...\n",
      " [ 2.8533936e-02]\n",
      " [ 3.0212402e-02]\n",
      " [ 2.9846191e-02]]\n",
      "tensor(0)\n",
      "tensor([[0.0003]])\n"
     ]
    }
   ],
   "source": [
    "recording = sd.rec(int(duration * freq), \n",
    "               samplerate=freq, channels=1)\n",
    "\n",
    "# Record audio for the given number of seconds\n",
    "sd.wait()\n",
    "print(recording.shape)\n",
    "print(recording)\n",
    "mfc_3d = preprocess_audio(recording[:,0])\n",
    "im = Image.fromarray(mfc_3d.reshape((224,224,3)))\n",
    "mfc_3d = mfc_3d.reshape(3,224,224)\n",
    "mfc_3d = torch.tensor(mfc_3d[None,:],dtype=torch.float32)\n",
    "\n",
    "with torch.no_grad():\n",
    "    pred = model(mfc_3d)\n",
    "    \n",
    "print(torch.argmax(pred[0]))\n",
    "print(pred[1])"
   ]
  },
  {
   "cell_type": "code",
   "execution_count": 370,
   "id": "19912f91",
   "metadata": {},
   "outputs": [
    {
     "data": {
      "image/png": "[encoded data removed]",
      "text/plain": [
       "<PIL.Image.Image image mode=RGB size=224x224>"
      ]
     },
     "execution_count": 370,
     "metadata": {},
     "output_type": "execute_result"
    }
   ],
   "source": [
    "im"
   ]
  },
  {
   "cell_type": "code",
   "execution_count": 320,
   "id": "33330121",
   "metadata": {},
   "outputs": [
    {
     "data": {
      "image/png": "[encoded data removed]",
      "text/plain": [
       "<PIL.Image.Image image mode=RGB size=224x224>"
      ]
     },
     "execution_count": 320,
     "metadata": {},
     "output_type": "execute_result"
    }
   ],
   "source": [
    "im"
   ]
  },
  {
   "cell_type": "code",
   "execution_count": 30,
   "id": "697d4b11",
   "metadata": {},
   "outputs": [
    {
     "data": {
      "text/plain": [
       "0.09158325"
      ]
     },
     "execution_count": 30,
     "metadata": {},
     "output_type": "execute_result"
    }
   ],
   "source": [
    "np.max(recording)"
   ]
  },
  {
   "cell_type": "code",
   "execution_count": 130,
   "id": "d8ba98f7",
   "metadata": {},
   "outputs": [
    {
     "data": {
      "text/plain": [
       "32768"
      ]
     },
     "execution_count": 130,
     "metadata": {},
     "output_type": "execute_result"
    }
   ],
   "source": [
    "2**15"
   ]
  },
  {
   "cell_type": "code",
   "execution_count": null,
   "id": "5dae9265",
   "metadata": {},
   "outputs": [],
   "source": []
  }
 ],
 "metadata": {
  "kernelspec": {
   "display_name": "Python 3 (ipykernel)",
   "language": "python",
   "name": "python3"
  },
  "language_info": {
   "codemirror_mode": {
    "name": "ipython",
    "version": 3
   },
   "file_extension": ".py",
   "mimetype": "text/x-python",
   "name": "python",
   "nbconvert_exporter": "python",
   "pygments_lexer": "ipython3",
   "version": "3.9.6"
  }
 },
 "nbformat": 4,
 "nbformat_minor": 5
}
