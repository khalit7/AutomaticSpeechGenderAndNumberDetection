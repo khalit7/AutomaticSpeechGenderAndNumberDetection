{
  "nbformat": 4,
  "nbformat_minor": 0,
  "metadata": {
    "colab": {
      "name": "music_prject_trigger_detection_simple_model_training.ipynb",
      "provenance": [],
      "collapsed_sections": []
    },
    "kernelspec": {
      "name": "python3",
      "display_name": "Python 3"
    },
    "language_info": {
      "name": "python"
    }
  },
  "cells": [
    {
      "cell_type": "code",
      "execution_count": null,
      "metadata": {
        "id": "oAtK4pmJGvet"
      },
      "outputs": [],
      "source": [
        "import numpy as np\n",
        "import os, glob, csv\n",
        "\n",
        "\n",
        "import librosa\n",
        "\n",
        "import sklearn\n",
        "\n",
        "import torch\n",
        "import torch.nn as nn\n",
        "import torch.nn.functional as nnF\n",
        "from torchsummary import summary\n",
        "\n",
        "%matplotlib inline\n",
        "import matplotlib.pyplot as plt\n",
        "\n",
        "import math\n",
        "\n",
        "\n",
        "from sklearn.metrics import accuracy_score\n",
        "from sklearn.metrics import confusion_matrix\n",
        "\n",
        "from sklearn.preprocessing import StandardScaler\n",
        "from sklearn.model_selection import train_test_split\n",
        "# use GPU if available, otherwise, use cpu\n",
        "device = torch.device(\"cuda:0\" if torch.cuda.is_available() else \"cpu\")"
      ]
    },
    {
      "cell_type": "code",
      "source": [
        "def extract_melspectrogram(filename, win_len=0.05, hop_len=0.025, n_mels=64):\n",
        "    audio, sr = librosa.load(\"{}\".format(filename), sr=22050)\n",
        "    win_len = int(win_len*sr)\n",
        "    hop_len = int(hop_len*sr)\n",
        "    spec = librosa.feature.melspectrogram(audio, sr, n_mels=n_mels, n_fft=2048, win_length=win_len, hop_length=hop_len)\n",
        "    return spec.transpose((1,0))\n",
        "\n",
        "#plt.imshow(librosa.power_to_db(x, ref=np.max), aspect='auto', origin='lower')"
      ],
      "metadata": {
        "id": "C6y2bjPL6ZjT"
      },
      "execution_count": null,
      "outputs": []
    },
    {
      "cell_type": "code",
      "source": [
        "!unzip '/content/drive/MyDrive/Deep_learning_music_project/trigger_word_dataset.zip'"
      ],
      "metadata": {
        "id": "lILPq6kR5gtE"
      },
      "execution_count": null,
      "outputs": []
    },
    {
      "cell_type": "code",
      "source": [
        "pos_base_dir = \"/content/trigger_word_dataset/positives/\"\n",
        "neg_base_dir = \"/content/trigger_word_dataset/negatives/\""
      ],
      "metadata": {
        "id": "rQNSFg2757cv"
      },
      "execution_count": null,
      "outputs": []
    },
    {
      "cell_type": "code",
      "source": [
        "pos_dir = os.listdir(pos_base_dir)\n",
        "neg_dir = os.listdir(neg_base_dir)"
      ],
      "metadata": {
        "id": "HMFtxgt_5q8s"
      },
      "execution_count": null,
      "outputs": []
    },
    {
      "cell_type": "code",
      "source": [
        "print(len(neg_dir))\n",
        "print(len(pos_dir))\n",
        "data_set_size = len(neg_dir) + len(pos_dir)"
      ],
      "metadata": {
        "colab": {
          "base_uri": "https://localhost:8080/"
        },
        "id": "1ezflvcf54G7",
        "outputId": "c98c42c0-69d2-429e-d421-c250dba6bb51"
      },
      "execution_count": null,
      "outputs": [
        {
          "output_type": "stream",
          "name": "stdout",
          "text": [
            "2272\n",
            "2367\n"
          ]
        }
      ]
    },
    {
      "cell_type": "code",
      "source": [
        "x = extract_melspectrogram(pos_base_dir+pos_dir[0])\n",
        "print(x.shape)"
      ],
      "metadata": {
        "colab": {
          "base_uri": "https://localhost:8080/"
        },
        "id": "r6CAiMh855Lb",
        "outputId": "315f556e-1d65-45d5-9b53-7235e79d7bb9"
      },
      "execution_count": null,
      "outputs": [
        {
          "output_type": "stream",
          "name": "stdout",
          "text": [
            "(41, 64)\n"
          ]
        }
      ]
    },
    {
      "cell_type": "code",
      "source": [
        "pos_data = [] # for storing mel spectrograms"
      ],
      "metadata": {
        "id": "LPIBhcJ09N4_"
      },
      "execution_count": null,
      "outputs": []
    },
    {
      "cell_type": "code",
      "source": [
        "counter = 0\n",
        "for i,pos in enumerate(pos_dir):\n",
        "  x = extract_melspectrogram(pos_base_dir+pos)\n",
        "  if x.shape != (41,64):\n",
        "    print(\"skipped!\")\n",
        "    counter+=1\n",
        "    continue\n",
        "  pos_data.append(x)\n",
        "print(counter)\n"
      ],
      "metadata": {
        "colab": {
          "base_uri": "https://localhost:8080/"
        },
        "id": "lhhAgmU07ppH",
        "outputId": "43a91142-593e-4b8d-cb0c-6bcb7729365a"
      },
      "execution_count": null,
      "outputs": [
        {
          "output_type": "stream",
          "name": "stdout",
          "text": [
            "skipped!\n",
            "skipped!\n",
            "skipped!\n",
            "skipped!\n",
            "skipped!\n",
            "skipped!\n",
            "skipped!\n",
            "skipped!\n",
            "skipped!\n",
            "skipped!\n",
            "skipped!\n",
            "skipped!\n",
            "skipped!\n",
            "skipped!\n",
            "skipped!\n",
            "skipped!\n",
            "skipped!\n",
            "skipped!\n",
            "skipped!\n",
            "skipped!\n",
            "skipped!\n",
            "skipped!\n",
            "skipped!\n",
            "skipped!\n",
            "skipped!\n",
            "skipped!\n",
            "skipped!\n",
            "skipped!\n",
            "skipped!\n",
            "skipped!\n",
            "skipped!\n",
            "skipped!\n",
            "skipped!\n",
            "skipped!\n",
            "skipped!\n",
            "skipped!\n",
            "skipped!\n",
            "skipped!\n",
            "skipped!\n",
            "skipped!\n",
            "skipped!\n",
            "skipped!\n",
            "skipped!\n",
            "skipped!\n",
            "skipped!\n",
            "skipped!\n",
            "skipped!\n",
            "skipped!\n",
            "skipped!\n",
            "skipped!\n",
            "skipped!\n",
            "skipped!\n",
            "skipped!\n",
            "skipped!\n",
            "skipped!\n",
            "skipped!\n",
            "skipped!\n",
            "skipped!\n",
            "skipped!\n",
            "skipped!\n",
            "skipped!\n",
            "skipped!\n",
            "skipped!\n",
            "skipped!\n",
            "skipped!\n",
            "skipped!\n",
            "skipped!\n",
            "skipped!\n",
            "skipped!\n",
            "skipped!\n",
            "skipped!\n",
            "skipped!\n",
            "skipped!\n",
            "skipped!\n",
            "skipped!\n",
            "skipped!\n",
            "skipped!\n",
            "skipped!\n",
            "skipped!\n",
            "skipped!\n",
            "skipped!\n",
            "skipped!\n",
            "skipped!\n",
            "skipped!\n",
            "skipped!\n",
            "skipped!\n",
            "skipped!\n",
            "skipped!\n",
            "skipped!\n",
            "skipped!\n",
            "skipped!\n",
            "skipped!\n",
            "skipped!\n",
            "skipped!\n",
            "skipped!\n",
            "skipped!\n",
            "skipped!\n",
            "skipped!\n",
            "skipped!\n",
            "skipped!\n",
            "skipped!\n",
            "skipped!\n",
            "skipped!\n",
            "skipped!\n",
            "skipped!\n",
            "skipped!\n",
            "skipped!\n",
            "skipped!\n",
            "skipped!\n",
            "skipped!\n",
            "skipped!\n",
            "skipped!\n",
            "skipped!\n",
            "skipped!\n",
            "skipped!\n",
            "skipped!\n",
            "skipped!\n",
            "skipped!\n",
            "skipped!\n",
            "skipped!\n",
            "skipped!\n",
            "skipped!\n",
            "skipped!\n",
            "skipped!\n",
            "skipped!\n",
            "skipped!\n",
            "skipped!\n",
            "skipped!\n",
            "skipped!\n",
            "skipped!\n",
            "skipped!\n",
            "skipped!\n",
            "skipped!\n",
            "skipped!\n",
            "skipped!\n",
            "skipped!\n",
            "skipped!\n",
            "skipped!\n",
            "skipped!\n",
            "skipped!\n",
            "skipped!\n",
            "skipped!\n",
            "skipped!\n",
            "skipped!\n",
            "skipped!\n",
            "skipped!\n",
            "skipped!\n",
            "skipped!\n",
            "skipped!\n",
            "skipped!\n",
            "skipped!\n",
            "skipped!\n",
            "skipped!\n",
            "skipped!\n",
            "skipped!\n",
            "skipped!\n",
            "skipped!\n",
            "skipped!\n",
            "skipped!\n",
            "skipped!\n",
            "skipped!\n",
            "skipped!\n",
            "skipped!\n",
            "skipped!\n",
            "skipped!\n",
            "skipped!\n",
            "skipped!\n",
            "skipped!\n",
            "skipped!\n",
            "skipped!\n",
            "skipped!\n",
            "skipped!\n",
            "skipped!\n",
            "skipped!\n",
            "skipped!\n",
            "skipped!\n",
            "skipped!\n",
            "skipped!\n",
            "skipped!\n",
            "skipped!\n",
            "skipped!\n",
            "skipped!\n",
            "skipped!\n",
            "skipped!\n",
            "skipped!\n",
            "skipped!\n",
            "skipped!\n",
            "skipped!\n",
            "skipped!\n",
            "skipped!\n",
            "skipped!\n",
            "skipped!\n",
            "skipped!\n",
            "skipped!\n",
            "skipped!\n",
            "skipped!\n",
            "skipped!\n",
            "skipped!\n",
            "skipped!\n",
            "skipped!\n",
            "skipped!\n",
            "skipped!\n",
            "skipped!\n",
            "skipped!\n",
            "skipped!\n",
            "skipped!\n",
            "skipped!\n",
            "skipped!\n",
            "skipped!\n",
            "skipped!\n",
            "skipped!\n",
            "skipped!\n",
            "skipped!\n",
            "skipped!\n",
            "skipped!\n",
            "skipped!\n",
            "skipped!\n",
            "skipped!\n",
            "skipped!\n",
            "skipped!\n",
            "skipped!\n",
            "skipped!\n",
            "skipped!\n",
            "skipped!\n",
            "skipped!\n",
            "skipped!\n",
            "skipped!\n",
            "skipped!\n",
            "skipped!\n",
            "skipped!\n",
            "skipped!\n",
            "skipped!\n",
            "skipped!\n",
            "skipped!\n",
            "skipped!\n",
            "skipped!\n",
            "skipped!\n",
            "skipped!\n",
            "skipped!\n",
            "skipped!\n",
            "skipped!\n",
            "skipped!\n",
            "skipped!\n",
            "skipped!\n",
            "skipped!\n",
            "skipped!\n",
            "skipped!\n",
            "skipped!\n",
            "skipped!\n",
            "skipped!\n",
            "skipped!\n",
            "skipped!\n",
            "skipped!\n",
            "skipped!\n",
            "skipped!\n",
            "skipped!\n",
            "skipped!\n",
            "skipped!\n",
            "skipped!\n",
            "skipped!\n",
            "skipped!\n",
            "skipped!\n",
            "262\n"
          ]
        }
      ]
    },
    {
      "cell_type": "code",
      "source": [
        "pos_data = np.array(pos_data)\n",
        "pos_data.shape"
      ],
      "metadata": {
        "colab": {
          "base_uri": "https://localhost:8080/"
        },
        "id": "muocAZhl_tZU",
        "outputId": "9812e9c6-b9f9-4e1c-a6ab-ef97f174d622"
      },
      "execution_count": null,
      "outputs": [
        {
          "output_type": "execute_result",
          "data": {
            "text/plain": [
              "(2105, 41, 64)"
            ]
          },
          "metadata": {},
          "execution_count": 59
        }
      ]
    },
    {
      "cell_type": "code",
      "source": [
        "counter=0\n",
        "neg_data = []\n",
        "for i,neg in enumerate(neg_dir):\n",
        "  i+=len(pos_dir)\n",
        "  x = extract_melspectrogram(neg_base_dir+neg)\n",
        "  if x.shape != (41,64):\n",
        "    print(\"skipped!\")\n",
        "    counter+=1\n",
        "    continue\n",
        "  neg_data.append(x)\n",
        "\n",
        "print(counter)"
      ],
      "metadata": {
        "colab": {
          "base_uri": "https://localhost:8080/"
        },
        "id": "GEpEZ-UW_R0l",
        "outputId": "aba23cef-139c-4cd2-bb1c-b95a2af84dbf"
      },
      "execution_count": null,
      "outputs": [
        {
          "output_type": "stream",
          "name": "stdout",
          "text": [
            "skipped!\n",
            "skipped!\n",
            "skipped!\n",
            "skipped!\n",
            "skipped!\n",
            "skipped!\n",
            "skipped!\n",
            "skipped!\n",
            "skipped!\n",
            "skipped!\n",
            "skipped!\n",
            "skipped!\n",
            "skipped!\n",
            "skipped!\n",
            "skipped!\n",
            "skipped!\n",
            "skipped!\n",
            "skipped!\n",
            "skipped!\n",
            "skipped!\n",
            "skipped!\n",
            "skipped!\n",
            "skipped!\n",
            "skipped!\n",
            "skipped!\n",
            "skipped!\n",
            "skipped!\n",
            "skipped!\n",
            "skipped!\n",
            "skipped!\n",
            "skipped!\n",
            "skipped!\n",
            "skipped!\n",
            "skipped!\n",
            "skipped!\n",
            "skipped!\n",
            "skipped!\n",
            "skipped!\n",
            "skipped!\n",
            "skipped!\n",
            "skipped!\n",
            "skipped!\n",
            "skipped!\n",
            "skipped!\n",
            "skipped!\n",
            "skipped!\n",
            "skipped!\n",
            "skipped!\n",
            "skipped!\n",
            "skipped!\n",
            "skipped!\n",
            "skipped!\n",
            "skipped!\n",
            "skipped!\n",
            "skipped!\n",
            "skipped!\n",
            "skipped!\n",
            "skipped!\n",
            "skipped!\n",
            "skipped!\n",
            "skipped!\n",
            "skipped!\n",
            "skipped!\n",
            "skipped!\n",
            "skipped!\n",
            "skipped!\n",
            "skipped!\n",
            "skipped!\n",
            "skipped!\n",
            "skipped!\n",
            "skipped!\n",
            "skipped!\n",
            "skipped!\n",
            "skipped!\n",
            "skipped!\n",
            "skipped!\n",
            "skipped!\n",
            "skipped!\n",
            "skipped!\n",
            "skipped!\n",
            "skipped!\n",
            "skipped!\n",
            "skipped!\n",
            "skipped!\n",
            "skipped!\n",
            "skipped!\n",
            "skipped!\n",
            "skipped!\n",
            "skipped!\n",
            "skipped!\n",
            "skipped!\n",
            "skipped!\n",
            "skipped!\n",
            "skipped!\n",
            "skipped!\n",
            "skipped!\n",
            "skipped!\n",
            "skipped!\n",
            "skipped!\n",
            "skipped!\n",
            "skipped!\n",
            "skipped!\n",
            "skipped!\n",
            "skipped!\n",
            "skipped!\n",
            "skipped!\n",
            "skipped!\n",
            "skipped!\n",
            "skipped!\n",
            "skipped!\n",
            "skipped!\n",
            "skipped!\n",
            "skipped!\n",
            "skipped!\n",
            "skipped!\n",
            "skipped!\n",
            "skipped!\n",
            "skipped!\n",
            "skipped!\n",
            "skipped!\n",
            "skipped!\n",
            "skipped!\n",
            "skipped!\n",
            "skipped!\n",
            "skipped!\n",
            "skipped!\n",
            "skipped!\n",
            "skipped!\n",
            "skipped!\n",
            "skipped!\n",
            "skipped!\n",
            "skipped!\n",
            "skipped!\n",
            "skipped!\n",
            "skipped!\n",
            "skipped!\n",
            "skipped!\n",
            "skipped!\n",
            "skipped!\n",
            "skipped!\n",
            "skipped!\n",
            "skipped!\n",
            "skipped!\n",
            "skipped!\n",
            "skipped!\n",
            "skipped!\n",
            "skipped!\n",
            "skipped!\n",
            "skipped!\n",
            "skipped!\n",
            "skipped!\n",
            "skipped!\n",
            "skipped!\n",
            "skipped!\n",
            "skipped!\n",
            "skipped!\n",
            "skipped!\n",
            "skipped!\n",
            "skipped!\n",
            "skipped!\n",
            "skipped!\n",
            "skipped!\n",
            "skipped!\n",
            "skipped!\n",
            "skipped!\n",
            "skipped!\n",
            "skipped!\n",
            "skipped!\n",
            "skipped!\n",
            "skipped!\n",
            "skipped!\n",
            "skipped!\n",
            "skipped!\n",
            "skipped!\n",
            "skipped!\n",
            "skipped!\n",
            "skipped!\n",
            "skipped!\n",
            "skipped!\n",
            "skipped!\n",
            "skipped!\n",
            "skipped!\n",
            "skipped!\n",
            "skipped!\n",
            "skipped!\n",
            "skipped!\n",
            "skipped!\n",
            "skipped!\n",
            "skipped!\n",
            "skipped!\n",
            "skipped!\n",
            "skipped!\n",
            "skipped!\n",
            "skipped!\n",
            "skipped!\n",
            "skipped!\n",
            "skipped!\n",
            "skipped!\n",
            "skipped!\n",
            "skipped!\n",
            "skipped!\n",
            "skipped!\n",
            "skipped!\n",
            "skipped!\n",
            "skipped!\n",
            "skipped!\n",
            "skipped!\n",
            "skipped!\n",
            "skipped!\n",
            "skipped!\n",
            "skipped!\n",
            "211\n"
          ]
        }
      ]
    },
    {
      "cell_type": "code",
      "source": [
        "neg_data = np.array(neg_data)\n",
        "neg_data.shape"
      ],
      "metadata": {
        "colab": {
          "base_uri": "https://localhost:8080/"
        },
        "id": "r_uQUeRY9mT-",
        "outputId": "40241dc2-4905-44a1-ce01-21352a4492f8"
      },
      "execution_count": null,
      "outputs": [
        {
          "output_type": "execute_result",
          "data": {
            "text/plain": [
              "(2061, 41, 64)"
            ]
          },
          "metadata": {},
          "execution_count": 53
        }
      ]
    },
    {
      "cell_type": "code",
      "source": [
        "all_labels = np.append(np.ones(pos_data.shape[0]),np.zeros(neg_data.shape[0]) )\n",
        "print(all_labels.shape)\n",
        "print(sum(all_labels))"
      ],
      "metadata": {
        "colab": {
          "base_uri": "https://localhost:8080/"
        },
        "id": "i_tuXXVwBDVc",
        "outputId": "34c6dc3a-72d9-4d2b-fc31-6fd23093d12a"
      },
      "execution_count": null,
      "outputs": [
        {
          "output_type": "stream",
          "name": "stdout",
          "text": [
            "(4166,)\n",
            "2105.0\n"
          ]
        }
      ]
    },
    {
      "cell_type": "code",
      "source": [
        "all_data = np.append(pos_data,neg_data,axis=0)\n",
        "all_data.shape"
      ],
      "metadata": {
        "colab": {
          "base_uri": "https://localhost:8080/"
        },
        "id": "ymvzL-o8AYT2",
        "outputId": "e2744b22-5024-48c0-e246-c99eea1f83cb"
      },
      "execution_count": null,
      "outputs": [
        {
          "output_type": "execute_result",
          "data": {
            "text/plain": [
              "(4166, 41, 64)"
            ]
          },
          "metadata": {},
          "execution_count": 61
        }
      ]
    },
    {
      "cell_type": "code",
      "source": [
        "# save data \n",
        "np.save(\"trigger_simple_dataset_x.npy\",all_data)\n",
        "np.save(\"trigger_simple_dataset_y.npy\",all_labels)"
      ],
      "metadata": {
        "id": "-QnuaaigBrsn"
      },
      "execution_count": null,
      "outputs": []
    },
    {
      "cell_type": "code",
      "source": [
        ""
      ],
      "metadata": {
        "id": "5L9aNCbVChhP"
      },
      "execution_count": null,
      "outputs": []
    },
    {
      "cell_type": "code",
      "source": [
        "!unzip '/content/drive/MyDrive/Deep_learning_music_project/trigger_simple_approach.zip'"
      ],
      "metadata": {
        "colab": {
          "base_uri": "https://localhost:8080/"
        },
        "id": "QuYRCMnK8MF1",
        "outputId": "5b9966f9-9286-4d90-c123-8919310d0929"
      },
      "execution_count": null,
      "outputs": [
        {
          "output_type": "stream",
          "name": "stdout",
          "text": [
            "Archive:  /content/drive/MyDrive/Deep_learning_music_project/trigger_simple_approach.zip\n",
            "   creating: trigger_simple_approach/\n",
            "  inflating: trigger_simple_approach/trigger_simple_dataset_x.npy  \n",
            "  inflating: trigger_simple_approach/trigger_simple_dataset_y.npy  \n"
          ]
        }
      ]
    },
    {
      "cell_type": "code",
      "source": [
        "x_train = np.load(\"/content/trigger_simple_approach/trigger_simple_dataset_x.npy\")\n",
        "y_train = np.load(\"/content/trigger_simple_approach/trigger_simple_dataset_y.npy\")"
      ],
      "metadata": {
        "id": "lEAZmbW8EeTW"
      },
      "execution_count": null,
      "outputs": []
    },
    {
      "cell_type": "code",
      "source": [
        "x_train, x_test, y_train, y_test = train_test_split(x_train, y_train, test_size=0.30)"
      ],
      "metadata": {
        "id": "oKib9Je9Do_8"
      },
      "execution_count": null,
      "outputs": []
    },
    {
      "cell_type": "code",
      "source": [
        "x_valid,x_test,y_valid,y_test = train_test_split(x_test, y_test, test_size=0.2)"
      ],
      "metadata": {
        "id": "vcV48zsZYd9Q"
      },
      "execution_count": null,
      "outputs": []
    },
    {
      "cell_type": "code",
      "source": [
        "print(x_train.shape)\n",
        "print(x_valid.shape)\n",
        "print(x_test.shape)\n"
      ],
      "metadata": {
        "colab": {
          "base_uri": "https://localhost:8080/"
        },
        "id": "dX4n1KntExi-",
        "outputId": "20e839ff-11db-435f-ef90-fc3e8effd71d"
      },
      "execution_count": null,
      "outputs": [
        {
          "output_type": "stream",
          "name": "stdout",
          "text": [
            "(2916, 41, 64)\n",
            "(1000, 41, 64)\n",
            "(250, 41, 64)\n"
          ]
        }
      ]
    },
    {
      "cell_type": "code",
      "source": [
        "print(sum(y_train))\n",
        "print(sum(y_valid))\n",
        "print(sum(y_test))"
      ],
      "metadata": {
        "colab": {
          "base_uri": "https://localhost:8080/"
        },
        "id": "6L8pE1dVZywR",
        "outputId": "5359426d-6957-4d0a-a558-09b0b2217447"
      },
      "execution_count": null,
      "outputs": [
        {
          "output_type": "stream",
          "name": "stdout",
          "text": [
            "1488.0\n",
            "505.0\n",
            "112.0\n"
          ]
        }
      ]
    },
    {
      "cell_type": "code",
      "source": [
        "np.save(\"/content/data/train/x.npy\",x_train)\n",
        "np.save(\"/content/data/train/y.npy\",y_train)\n",
        "np.save(\"/content/data/valid/x.npy\",x_valid)\n",
        "np.save(\"/content/data/valid/y.npy\",y_valid)\n",
        "np.save(\"/content/data/test/x.npy\",x_test)\n",
        "np.save(\"/content/data/test/y.npy\",y_test)"
      ],
      "metadata": {
        "id": "umBeGlyEZZmL"
      },
      "execution_count": null,
      "outputs": []
    },
    {
      "cell_type": "code",
      "source": [
        "!zip -r /content/data.zip /content/data"
      ],
      "metadata": {
        "colab": {
          "base_uri": "https://localhost:8080/"
        },
        "id": "Lizr1fHmaBo9",
        "outputId": "754e0c10-8516-46bf-8cb3-986650c121ce"
      },
      "execution_count": null,
      "outputs": [
        {
          "output_type": "stream",
          "name": "stdout",
          "text": [
            "  adding: content/data/ (stored 0%)\n",
            "  adding: content/data/train/ (stored 0%)\n",
            "  adding: content/data/train/x.npy (deflated 5%)\n",
            "  adding: content/data/train/y.npy (deflated 96%)\n",
            "  adding: content/data/test/ (stored 0%)\n",
            "  adding: content/data/test/x.npy (deflated 5%)\n",
            "  adding: content/data/test/y.npy (deflated 91%)\n",
            "  adding: content/data/valid/ (stored 0%)\n",
            "  adding: content/data/valid/x.npy (deflated 5%)\n",
            "  adding: content/data/valid/y.npy (deflated 95%)\n",
            "  adding: content/data/.ipynb_checkpoints/ (stored 0%)\n"
          ]
        }
      ]
    },
    {
      "cell_type": "code",
      "source": [
        "!unzip '/content/drive/MyDrive/Deep_learning_music_project/train_test_val_data.zip'"
      ],
      "metadata": {
        "colab": {
          "base_uri": "https://localhost:8080/"
        },
        "id": "EuVXigeUbKvc",
        "outputId": "7499a7d2-8b41-438b-cbf5-0b7ceaf5c861"
      },
      "execution_count": null,
      "outputs": [
        {
          "output_type": "stream",
          "name": "stdout",
          "text": [
            "Archive:  /content/drive/MyDrive/Deep_learning_music_project/train_test_val_data.zip\n",
            "   creating: train_test_val_data/\n",
            "   creating: train_test_val_data/.ipynb_checkpoints/\n",
            "   creating: train_test_val_data/test/\n",
            "  inflating: train_test_val_data/test/x.npy  \n",
            "  inflating: train_test_val_data/test/y.npy  \n",
            "   creating: train_test_val_data/train/\n",
            "  inflating: train_test_val_data/train/x.npy  \n",
            "  inflating: train_test_val_data/train/y.npy  \n",
            "   creating: train_test_val_data/valid/\n",
            "  inflating: train_test_val_data/valid/x.npy  \n",
            "  inflating: train_test_val_data/valid/y.npy  \n"
          ]
        }
      ]
    },
    {
      "cell_type": "code",
      "source": [
        "x_train = np.load(\"/content/train_test_val_data/train/x.npy\")\n",
        "y_train = np.load(\"/content/train_test_val_data/train/y.npy\")\n",
        "x_valid = np.load(\"/content/train_test_val_data/valid/x.npy\")\n",
        "y_valid = np.load(\"/content/train_test_val_data/valid/y.npy\")\n",
        "x_test = np.load(\"/content/train_test_val_data/test/x.npy\")\n",
        "y_test = np.load(\"/content/train_test_val_data/test/y.npy\")"
      ],
      "metadata": {
        "id": "7GbHZ-fOaSYU"
      },
      "execution_count": null,
      "outputs": []
    },
    {
      "cell_type": "code",
      "source": [
        "# data normalisation\n",
        "scaler = StandardScaler()\n",
        "# compute normalisation parameters based on the training data \n",
        "# QUESTION: why do we reshape the data to (-1,64)?\n",
        "scaler.fit(x_train.reshape((-1,64)))\n",
        "# print(scaler.mean_)\n",
        "\n",
        "# normalise the training data with the computed parameters\n",
        "x_train = scaler.transform(x_train.reshape((-1,64)))\n",
        "x_train = x_train.reshape((-1, 41, 64)) # reverse back to the original shape\n",
        "#print(train_data[0])\n",
        "\n",
        "# normalise the validation data with the computed parameters\n",
        "x_valid = scaler.transform(x_valid.reshape((-1,64)))\n",
        "x_valid = x_valid.reshape((-1, 41, 64)) # reverse back to the original shape\n",
        "#print(valid_data[0])\n",
        "\n",
        "# normalise the test data with the computed parameters\n",
        "x_test = scaler.transform(x_test.reshape((-1,64)))\n",
        "x_test = x_test.reshape((-1, 41, 64)) # reverse back to the original shape\n",
        "#print(test_data[0])"
      ],
      "metadata": {
        "id": "mZGgs--n8P-q"
      },
      "execution_count": null,
      "outputs": []
    },
    {
      "cell_type": "code",
      "source": [
        "class DetectionModel(nn.Module):\n",
        "    \"\"\"The CNN model\"\"\"\n",
        "    def __init__(self):\n",
        "        \n",
        "        super(DetectionModel, self).__init__()\n",
        "        \n",
        "        self.conv1 = nn.Conv2d(in_channels=1, out_channels=64,\n",
        "                               kernel_size=(5, 5), bias=False,padding=\"same\")\n",
        "\n",
        "        self.conv2 = nn.Conv2d(in_channels=64, out_channels=128,\n",
        "                               kernel_size=(3, 3), bias=False,padding=\"same\")\n",
        "\n",
        "        self.conv3 = nn.Conv2d(in_channels=128, out_channels=128,\n",
        "                               kernel_size=(3, 3), bias=False)\n",
        "\n",
        "        self.fc1 = nn.Linear(128, 128, bias=True)\n",
        "        self.fc2 = nn.Linear(128, 1, bias=True)\n",
        "\n",
        "        self.bn1 = nn.BatchNorm2d(64)\n",
        "        self.bn2 = nn.BatchNorm2d(128)\n",
        "        self.bn3 = nn.BatchNorm2d(128)\n",
        "\n",
        "\n",
        "    def forward(self, x):\n",
        "        (_, time_len, mel_bins) = x.shape\n",
        "\n",
        "        x = x.view(-1, 1, time_len, mel_bins)\n",
        "        # print('Input')\n",
        "        # print(x.size())\n",
        "\n",
        "        x = nnF.relu(self.bn1(self.conv1(x)))\n",
        "        # print('Conv1')\n",
        "        # print(x.size())\n",
        "        x = nnF.max_pool2d(x,kernel_size=(2,4),padding=(0,2))\n",
        "        # print('Pool1')\n",
        "        # print(x.size())\n",
        "        \n",
        "        x = nnF.relu(self.bn2(self.conv2(x)))\n",
        "        # print('Conv2')\n",
        "        # print(x.size())\n",
        "        x = nnF.max_pool2d(x,kernel_size=(3,3),padding=(1,1))\n",
        "        # print('Pool2')\n",
        "        # print(x.size())\n",
        "        \n",
        "        x = nnF.relu(self.bn3(self.conv3(x)))\n",
        "        # print('Conv3')\n",
        "        # print(x.size())\n",
        "        x = nnF.max_pool2d(x,kernel_size=(5,4))\n",
        "        # print('Pool3')\n",
        "        # print(x.size())\n",
        "        \n",
        "        # flatten\n",
        "        x = x.view(-1, self.num_flat_features(x))\n",
        "        x = nnF.relu(self.fc1(x))\n",
        "        x = torch.sigmoid(self.fc2(x))\n",
        "\n",
        "        return x\n",
        "\n",
        "    def forward_and_convert(self, x):\n",
        "        \"Handles the torch<--->numpy tensor conversion, for convenience\"\n",
        "        x_torch = torch.FloatTensor(x)\n",
        "        y_torch = self.forward(x_torch)\n",
        "        return y_torch.detach().numpy()\n",
        "        \n",
        "    def num_flat_features(self, x):\n",
        "        size = x.size()[1:]  # all dimensions except the batch dimension\n",
        "        num_features = 1\n",
        "        for s in size:\n",
        "            num_features *= s\n",
        "        return num_features"
      ],
      "metadata": {
        "id": "Zgr6RBLVCY9C"
      },
      "execution_count": null,
      "outputs": []
    },
    {
      "cell_type": "code",
      "source": [
        "# create a model instance\n",
        "net = DetectionModel()\n",
        "print(net)\n",
        "\n",
        "# Binary-cross entropy loss, closely related to logistic regression loss\n",
        "criterion = nn.BCELoss()\n",
        "\n",
        "# Adam Optimizer, learning rate 0.001\n",
        "optimizer = torch.optim.Adam(net.parameters(), lr=1e-3, betas=(0.9, 0.999), eps=1e-08, weight_decay=0.)"
      ],
      "metadata": {
        "colab": {
          "base_uri": "https://localhost:8080/"
        },
        "id": "6PxHThfuFC4q",
        "outputId": "e16ca1a0-c77f-4746-9cb0-b18432b8caa1"
      },
      "execution_count": null,
      "outputs": [
        {
          "output_type": "stream",
          "name": "stdout",
          "text": [
            "DetectionModel(\n",
            "  (conv1): Conv2d(1, 64, kernel_size=(5, 5), stride=(1, 1), padding=same, bias=False)\n",
            "  (conv2): Conv2d(64, 128, kernel_size=(3, 3), stride=(1, 1), padding=same, bias=False)\n",
            "  (conv3): Conv2d(128, 128, kernel_size=(3, 3), stride=(1, 1), bias=False)\n",
            "  (fc1): Linear(in_features=128, out_features=128, bias=True)\n",
            "  (fc2): Linear(in_features=128, out_features=1, bias=True)\n",
            "  (bn1): BatchNorm2d(64, eps=1e-05, momentum=0.1, affine=True, track_running_stats=True)\n",
            "  (bn2): BatchNorm2d(128, eps=1e-05, momentum=0.1, affine=True, track_running_stats=True)\n",
            "  (bn3): BatchNorm2d(128, eps=1e-05, momentum=0.1, affine=True, track_running_stats=True)\n",
            ")\n"
          ]
        }
      ]
    },
    {
      "cell_type": "code",
      "source": [
        "summary(net, (41, 64))"
      ],
      "metadata": {
        "colab": {
          "base_uri": "https://localhost:8080/"
        },
        "id": "_K3SqiVXJzmb",
        "outputId": "da0d4051-1c61-4285-fbd0-4c89fa686b71"
      },
      "execution_count": null,
      "outputs": [
        {
          "output_type": "stream",
          "name": "stdout",
          "text": [
            "----------------------------------------------------------------\n",
            "        Layer (type)               Output Shape         Param #\n",
            "================================================================\n",
            "            Conv2d-1           [-1, 64, 41, 64]           1,600\n",
            "       BatchNorm2d-2           [-1, 64, 41, 64]             128\n",
            "            Conv2d-3          [-1, 128, 20, 17]          73,728\n",
            "       BatchNorm2d-4          [-1, 128, 20, 17]             256\n",
            "            Conv2d-5            [-1, 128, 5, 4]         147,456\n",
            "       BatchNorm2d-6            [-1, 128, 5, 4]             256\n",
            "            Linear-7                  [-1, 128]          16,512\n",
            "            Linear-8                    [-1, 1]             129\n",
            "================================================================\n",
            "Total params: 240,065\n",
            "Trainable params: 240,065\n",
            "Non-trainable params: 0\n",
            "----------------------------------------------------------------\n",
            "Input size (MB): 0.01\n",
            "Forward/backward pass size (MB): 3.27\n",
            "Params size (MB): 0.92\n",
            "Estimated Total Size (MB): 4.19\n",
            "----------------------------------------------------------------\n"
          ]
        }
      ]
    },
    {
      "cell_type": "code",
      "source": [
        "input = torch.randn(1,41,64)\n",
        "net(input)"
      ],
      "metadata": {
        "colab": {
          "base_uri": "https://localhost:8080/"
        },
        "id": "_0M5MxNCGCKs",
        "outputId": "52c298f8-d621-4af7-927e-29b1e7a7c07b"
      },
      "execution_count": null,
      "outputs": [
        {
          "output_type": "execute_result",
          "data": {
            "text/plain": [
              "tensor([[0.3979]], grad_fn=<SigmoidBackward0>)"
            ]
          },
          "metadata": {},
          "execution_count": 10
        }
      ]
    },
    {
      "cell_type": "code",
      "source": [
        "# minibatch size (remember stochastic gradient descent?)\n",
        "batch_size = 4\n",
        "\n",
        "# some helpful functions\n",
        "\n",
        "'''\n",
        "Evaluate a network \"model\" on the data \"data\" \n",
        "Predicted class labels will be returned\n",
        "'''\n",
        "def evaluate(model, data):\n",
        "    pred = np.zeros(len(data)) # for storing predicted class labels, one for each data sample\n",
        "    num_batch = len(data)//batch_size # number of batches in one data epoch\n",
        "    # evaluate batch by batch and store the output to \"pred\"\n",
        "    for i in range(num_batch):\n",
        "        temp = model.forward_and_convert(data[i*num_batch : (i+1)*num_batch])\n",
        "        # QUESTION: what does squeeze() function do?\n",
        "        pred[i*num_batch : (i+1)*num_batch] = temp.squeeze()\n",
        "    # some trailing data samples\n",
        "    if(num_batch*batch_size < len(data)):\n",
        "        temp = model.forward_and_convert(data[num_batch*batch_size :])\n",
        "        pred[num_batch*batch_size :] = temp.squeeze()\n",
        "    # each element in \"pred\" is the output after sigmoid function and has value in [0, 1].\n",
        "    # to obtain the discrete label (0 or 1 in this case), we threshold the value by 0.5.\n",
        "    pred[pred >= 0.5] = 1.\n",
        "    pred[pred < 0.5] = 0.\n",
        "    return pred\n",
        "\n",
        "'''\n",
        "Randomly shuffle the data. It will be used to shuffle the training data after every training epoch\n",
        "'''\n",
        "def shuffle_data(data, label):\n",
        "    # permute the data indices\n",
        "    rand_ind = np.random.permutation(len(data))\n",
        "    # re-order the data with the pumuted indices\n",
        "    return data[rand_ind], label[rand_ind]"
      ],
      "metadata": {
        "id": "1TC27TCDFWVB"
      },
      "execution_count": null,
      "outputs": []
    },
    {
      "cell_type": "code",
      "source": [
        "'''The training loop'''\n",
        "training_loss_history = []\n",
        "val_acc_history = []\n",
        "num_epochs = 100 # the number of training epoch (i.e. when you've gone through all samples of the training data, that's one epoch)\n",
        "evaluate_every_epoch = 1 # how often you want to evaluate the network during training?\n",
        "best_valid_acc = 0.0 # for keeping track of the best accuracy on the validation data\n",
        "saved_model = './best_model' # path for saving the best model during training\n",
        "\n",
        "for epoch in range(num_epochs):\n",
        "    # shuffle training data\n",
        "    train_data, train_label = shuffle_data(x_train, y_train)\n",
        "    \n",
        "    # the number of minibatch in one epoch\n",
        "    num_batch = len(train_data) // batch_size\n",
        "    for i in range(num_batch):\n",
        "        # sample one minibatch\n",
        "        batch_data = train_data[i*batch_size : (i+1)*batch_size]\n",
        "        label_data = train_label[i*batch_size : (i+1)*batch_size]\n",
        "    \n",
        "        # zero the parameter gradients\n",
        "        optimizer.zero_grad()\n",
        "\n",
        "        # forward + backward + optimize\n",
        "        outputs = net(torch.FloatTensor(batch_data))\n",
        "        loss = criterion(outputs.squeeze(), torch.FloatTensor(label_data))\n",
        "    \n",
        "        loss.backward()\n",
        "        optimizer.step()\n",
        "\n",
        "    running_loss = loss.item()\n",
        "    # print training loss\n",
        "    print('[%d] loss: %.8f' %(epoch, running_loss))\n",
        "    training_loss_history.append(running_loss)\n",
        "    # evaluate the network on the validation data\n",
        "    if((epoch+1) % evaluate_every_epoch == 0):\n",
        "        valid_pred = evaluate(net, x_valid)\n",
        "        valid_acc = accuracy_score(valid_pred, y_valid)\n",
        "        print('Validation accuracy: %g' % valid_acc)\n",
        "        val_acc_history.append(valid_acc)\n",
        "        # if the best validation performance so far, save the network to file \n",
        "        if(best_valid_acc < valid_acc):\n",
        "            best_valid_acc = valid_acc\n",
        "            print('Saving best model')\n",
        "            torch.save(net.state_dict(), saved_model)"
      ],
      "metadata": {
        "colab": {
          "base_uri": "https://localhost:8080/"
        },
        "id": "pxBDe8A2Fj94",
        "outputId": "cbbc2167-c291-44c2-c22b-228d5ea53c1b"
      },
      "execution_count": null,
      "outputs": [
        {
          "output_type": "stream",
          "name": "stdout",
          "text": [
            "[0] loss: 0.54096967\n",
            "Validation accuracy: 0.709\n",
            "Saving best model\n",
            "[1] loss: 0.44150168\n",
            "Validation accuracy: 0.711\n",
            "Saving best model\n",
            "[2] loss: 0.36388269\n",
            "Validation accuracy: 0.743\n",
            "Saving best model\n",
            "[3] loss: 0.07905370\n",
            "Validation accuracy: 0.789\n",
            "Saving best model\n",
            "[4] loss: 0.18227805\n",
            "Validation accuracy: 0.827\n",
            "Saving best model\n",
            "[5] loss: 0.04182323\n",
            "Validation accuracy: 0.872\n",
            "Saving best model\n",
            "[6] loss: 0.01414152\n",
            "Validation accuracy: 0.799\n",
            "[7] loss: 2.42124510\n",
            "Validation accuracy: 0.826\n",
            "[8] loss: 0.16020587\n",
            "Validation accuracy: 0.848\n",
            "[9] loss: 0.44830632\n",
            "Validation accuracy: 0.873\n",
            "Saving best model\n",
            "[10] loss: 0.02802875\n",
            "Validation accuracy: 0.865\n",
            "[11] loss: 0.01107284\n",
            "Validation accuracy: 0.894\n",
            "Saving best model\n",
            "[12] loss: 0.03225677\n",
            "Validation accuracy: 0.897\n",
            "Saving best model\n",
            "[13] loss: 0.10872759\n",
            "Validation accuracy: 0.857\n",
            "[14] loss: 0.06864517\n",
            "Validation accuracy: 0.865\n",
            "[15] loss: 0.00793055\n",
            "Validation accuracy: 0.875\n",
            "[16] loss: 0.22100148\n",
            "Validation accuracy: 0.91\n",
            "Saving best model\n",
            "[17] loss: 0.32769430\n",
            "Validation accuracy: 0.855\n",
            "[18] loss: 0.03107728\n",
            "Validation accuracy: 0.9\n",
            "[19] loss: 0.00205351\n",
            "Validation accuracy: 0.883\n",
            "[20] loss: 0.46688610\n",
            "Validation accuracy: 0.861\n",
            "[21] loss: 0.55751795\n",
            "Validation accuracy: 0.849\n",
            "[22] loss: 0.05079751\n",
            "Validation accuracy: 0.905\n",
            "[23] loss: 0.00379024\n",
            "Validation accuracy: 0.909\n",
            "[24] loss: 0.20403627\n",
            "Validation accuracy: 0.887\n",
            "[25] loss: 0.11634531\n",
            "Validation accuracy: 0.882\n",
            "[26] loss: 0.00017700\n",
            "Validation accuracy: 0.917\n",
            "Saving best model\n",
            "[27] loss: 0.00004381\n",
            "Validation accuracy: 0.912\n",
            "[28] loss: 0.13343364\n",
            "Validation accuracy: 0.907\n",
            "[29] loss: 0.00138542\n",
            "Validation accuracy: 0.9\n",
            "[30] loss: 0.34937349\n",
            "Validation accuracy: 0.914\n",
            "[31] loss: 0.01669549\n",
            "Validation accuracy: 0.912\n",
            "[32] loss: 0.00001019\n",
            "Validation accuracy: 0.915\n",
            "[33] loss: 0.00065591\n",
            "Validation accuracy: 0.891\n",
            "[34] loss: 0.05581972\n",
            "Validation accuracy: 0.903\n",
            "[35] loss: 0.00182366\n",
            "Validation accuracy: 0.893\n",
            "[36] loss: 0.40620503\n",
            "Validation accuracy: 0.878\n",
            "[37] loss: 0.00203903\n",
            "Validation accuracy: 0.914\n",
            "[38] loss: 0.37538812\n",
            "Validation accuracy: 0.913\n",
            "[39] loss: 0.02826114\n",
            "Validation accuracy: 0.907\n",
            "[40] loss: 0.00041712\n",
            "Validation accuracy: 0.919\n",
            "Saving best model\n",
            "[41] loss: 0.01825602\n",
            "Validation accuracy: 0.907\n",
            "[42] loss: 0.20974824\n",
            "Validation accuracy: 0.887\n",
            "[43] loss: 0.01129638\n",
            "Validation accuracy: 0.9\n",
            "[44] loss: 0.02905201\n",
            "Validation accuracy: 0.904\n",
            "[45] loss: 0.14357445\n",
            "Validation accuracy: 0.907\n",
            "[46] loss: 0.00407600\n",
            "Validation accuracy: 0.904\n",
            "[47] loss: 0.02680841\n",
            "Validation accuracy: 0.91\n",
            "[48] loss: 0.00438875\n",
            "Validation accuracy: 0.924\n",
            "Saving best model\n",
            "[49] loss: 0.00128877\n",
            "Validation accuracy: 0.917\n",
            "[50] loss: 0.00000086\n",
            "Validation accuracy: 0.883\n",
            "[51] loss: 0.00002395\n",
            "Validation accuracy: 0.904\n",
            "[52] loss: 0.48637152\n",
            "Validation accuracy: 0.911\n",
            "[53] loss: 0.00000499\n",
            "Validation accuracy: 0.918\n",
            "[54] loss: 0.00000001\n",
            "Validation accuracy: 0.903\n",
            "[55] loss: 0.42923981\n",
            "Validation accuracy: 0.895\n",
            "[56] loss: 0.00000098\n",
            "Validation accuracy: 0.916\n",
            "[57] loss: 0.04498908\n",
            "Validation accuracy: 0.904\n",
            "[58] loss: 0.15518105\n",
            "Validation accuracy: 0.928\n",
            "Saving best model\n",
            "[59] loss: 0.00000262\n",
            "Validation accuracy: 0.925\n",
            "[60] loss: 0.00024491\n",
            "Validation accuracy: 0.914\n",
            "[61] loss: 0.00005961\n",
            "Validation accuracy: 0.923\n",
            "[62] loss: 0.02114626\n",
            "Validation accuracy: 0.913\n",
            "[63] loss: 0.06417827\n",
            "Validation accuracy: 0.892\n",
            "[64] loss: 0.00847643\n",
            "Validation accuracy: 0.915\n",
            "[65] loss: 0.07071003\n",
            "Validation accuracy: 0.883\n",
            "[66] loss: 0.26870644\n",
            "Validation accuracy: 0.887\n",
            "[67] loss: 0.00078225\n",
            "Validation accuracy: 0.919\n",
            "[68] loss: 0.07695492\n",
            "Validation accuracy: 0.897\n",
            "[69] loss: 0.02405074\n",
            "Validation accuracy: 0.924\n",
            "[70] loss: 0.00000006\n",
            "Validation accuracy: 0.916\n",
            "[71] loss: 0.00000027\n",
            "Validation accuracy: 0.921\n",
            "[72] loss: 0.00004979\n",
            "Validation accuracy: 0.924\n",
            "[73] loss: 0.00000097\n",
            "Validation accuracy: 0.897\n",
            "[74] loss: 0.00018280\n",
            "Validation accuracy: 0.912\n",
            "[75] loss: 0.02871312\n",
            "Validation accuracy: 0.887\n",
            "[76] loss: 0.00005347\n",
            "Validation accuracy: 0.842\n",
            "[77] loss: 0.00004185\n",
            "Validation accuracy: 0.917\n",
            "[78] loss: 0.00000010\n",
            "Validation accuracy: 0.896\n",
            "[79] loss: 0.89588022\n",
            "Validation accuracy: 0.892\n",
            "[80] loss: 0.00002942\n",
            "Validation accuracy: 0.909\n",
            "[81] loss: 0.00000000\n",
            "Validation accuracy: 0.905\n",
            "[82] loss: 0.00000210\n",
            "Validation accuracy: 0.914\n",
            "[83] loss: 0.01141467\n",
            "Validation accuracy: 0.9\n",
            "[84] loss: 0.00055890\n",
            "Validation accuracy: 0.897\n",
            "[85] loss: 0.00000013\n",
            "Validation accuracy: 0.919\n",
            "[86] loss: 0.00000000\n",
            "Validation accuracy: 0.921\n",
            "[87] loss: 0.00548951\n",
            "Validation accuracy: 0.904\n",
            "[88] loss: 0.00000010\n",
            "Validation accuracy: 0.905\n",
            "[89] loss: 0.29083735\n",
            "Validation accuracy: 0.916\n",
            "[90] loss: 0.01643613\n",
            "Validation accuracy: 0.908\n",
            "[91] loss: 0.00001541\n",
            "Validation accuracy: 0.918\n",
            "[92] loss: 0.00170921\n",
            "Validation accuracy: 0.924\n",
            "[93] loss: 0.00000000\n",
            "Validation accuracy: 0.926\n",
            "[94] loss: 0.07869159\n",
            "Validation accuracy: 0.9\n",
            "[95] loss: 0.00000000\n",
            "Validation accuracy: 0.913\n",
            "[96] loss: 0.06450983\n",
            "Validation accuracy: 0.91\n",
            "[97] loss: 0.00000012\n",
            "Validation accuracy: 0.907\n",
            "[98] loss: 0.02644305\n",
            "Validation accuracy: 0.906\n",
            "[99] loss: 0.00017355\n",
            "Validation accuracy: 0.884\n"
          ]
        }
      ]
    },
    {
      "cell_type": "code",
      "source": [
        "plt.plot(val_acc_history)\n",
        "plt.title(\"validation accuracy\")"
      ],
      "metadata": {
        "id": "-330t0KdJMac",
        "colab": {
          "base_uri": "https://localhost:8080/",
          "height": 298
        },
        "outputId": "47c88a37-7839-4887-d692-bbfcb6ecf331"
      },
      "execution_count": null,
      "outputs": [
        {
          "output_type": "execute_result",
          "data": {
            "text/plain": [
              "Text(0.5, 1.0, 'validation accuracy')"
            ]
          },
          "metadata": {},
          "execution_count": 27
        },
        {
          "output_type": "display_data",
          "data": {
            "text/plain": [
              "<Figure size 432x288 with 1 Axes>"
            ],
            "image/png": "[encoded data removed]"
          },
          "metadata": {
            "needs_background": "light"
          }
        }
      ]
    },
    {
      "cell_type": "code",
      "source": [
        "plt.plot(training_loss_history)\n",
        "plt.title(\"training loss\")"
      ],
      "metadata": {
        "colab": {
          "base_uri": "https://localhost:8080/",
          "height": 298
        },
        "id": "yM6YWERyC42R",
        "outputId": "898d996d-24ea-4a84-940a-0ffaed364f03"
      },
      "execution_count": null,
      "outputs": [
        {
          "output_type": "execute_result",
          "data": {
            "text/plain": [
              "Text(0.5, 1.0, 'training loss')"
            ]
          },
          "metadata": {},
          "execution_count": 26
        },
        {
          "output_type": "display_data",
          "data": {
            "text/plain": [
              "<Figure size 432x288 with 1 Axes>"
            ],
            "image/png": "[encoded data removed]"
          },
          "metadata": {
            "needs_background": "light"
          }
        }
      ]
    },
    {
      "cell_type": "code",
      "source": [
        "net.load_state_dict(torch.load(\"./best_model\"))"
      ],
      "metadata": {
        "colab": {
          "base_uri": "https://localhost:8080/"
        },
        "id": "t5yvV5fKnVRD",
        "outputId": "0758718e-1be0-4b55-dd75-f1b36906372e"
      },
      "execution_count": null,
      "outputs": [
        {
          "output_type": "execute_result",
          "data": {
            "text/plain": [
              "<All keys matched successfully>"
            ]
          },
          "metadata": {},
          "execution_count": 18
        }
      ]
    },
    {
      "cell_type": "code",
      "source": [
        "# evaluate on test data \n",
        "test_preds = evaluate(net,x_test)\n",
        "test_acc = accuracy_score(test_preds, y_test)\n",
        "print(test_acc)"
      ],
      "metadata": {
        "colab": {
          "base_uri": "https://localhost:8080/"
        },
        "id": "eZdXKabCcD5E",
        "outputId": "66cc9134-899b-4861-a56f-5d967535c206"
      },
      "execution_count": null,
      "outputs": [
        {
          "output_type": "stream",
          "name": "stdout",
          "text": [
            "0.916\n"
          ]
        }
      ]
    },
    {
      "cell_type": "code",
      "source": [
        ""
      ],
      "metadata": {
        "id": "57MIfjKHtw0h"
      },
      "execution_count": null,
      "outputs": []
    }
  ]
}